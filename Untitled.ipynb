{
 "cells": [
  {
   "cell_type": "code",
   "execution_count": 1,
   "metadata": {},
   "outputs": [],
   "source": [
    "#Scratch work for the conversion of the Bretherton & Sobel Gill model from Matlab to Python\n",
    "#(transfer to separate script/module once I know it's working)\n",
    "\n",
    "#Model from paper by Bretherton & Sobel, JAS, 2001."
   ]
  },
  {
   "cell_type": "code",
   "execution_count": 3,
   "metadata": {},
   "outputs": [],
   "source": [
    "#Necessary imports\n",
    "import numpy as np\n",
    "import matplotlib.pyplot as plt"
   ]
  },
  {
   "cell_type": "raw",
   "metadata": {},
   "source": [
    "Matlab comments at beginning of file:\n",
    "% Script to solve Gill problem, exact, in WTG limit, and no-dissipation \n",
    "% comparison, for a specified zonally compensated mass source.  We use an FFT \n",
    "% with periodic BC in x and finite differencing with BC v = 0 at N, S walls.\n",
    "% The main control parameters are:\n",
    "%   nodiss (switch for nondim Rayleigh friction- 0: a= 0.15; 1: a = 0.0001)\n",
    "%   zonalcomp (switch to turn on zonal compensation of mass source)\n",
    "% Other control parameters controlling domain shape, etc. are near top of \n",
    "% script. \n",
    "% If nodiss = 0, three two-panel figures are plotted:\n",
    "%  figure(1)  Gill solution div and vort/u/v (b = a, b = Newtonian cooling)\n",
    "%   ...and if zonalcomp = 1...\n",
    "%  figure(2)  WTG solution div and vort/u/v (b = 0), zonally-compensated.\n",
    "%  figure(3)  Gill and WTG geopotls.\n",
    "% If nodiss = 1, one two-panel figure is plotted:\n",
    "%  figure(1)  a = b = 0 vort/u/v and phi.\n",
    "%\n",
    "% This script is used to generate the following figures in the WTG_gill paper:\n",
    "% Setting nodiss, zonalcomp, y0 = 0 (original Gill model):\n",
    "%  figure(1)  gill-nocomp-uv.eps  \n",
    "% Setting nodiss = 0, zonalcomp = 1, y0 = 0 (zonally compensated Gill model):\n",
    "%  figure(1)  gill-uv.eps\n",
    "%  figure(2)  WTG-uv.eps\n",
    "%  figure(3)  comp-phi.eps\n",
    "% We also get rms relative error stats uerr, verr, phierr, zetaerr, etc.\n",
    "% Setting nodiss = 1, zonalcomp = 1, y0 = 0 (no dissipation):\n",
    "%  figure(1)  nodiss.eps"
   ]
  },
  {
   "cell_type": "code",
   "execution_count": 4,
   "metadata": {},
   "outputs": [],
   "source": [
    "#\"User-Defined Parameters\": make these inputs to a function\n",
    "\n",
    "zonalcomp = 0 #No zonal compensation of heating (Original Gill problem)\n",
    "#  zonalcomp = 1; # Gill problem with zonally compensated heating\n",
    "nodiss = 0 # Thermal diffusivity = Rayleigh damping (Original Gill problem)\n",
    "#  nodiss = 1; # Inviscid, no thermal diffusion\n",
    "\n",
    "\n",
    "#  Set Rayleigh friction (nondimensionalized in units of sqrt(beta*c))\n",
    "if(nodiss):\n",
    "    a = 0.0001  # a = 0 would produce divide by zero.\n",
    "else:\n",
    "    a = 0.15\n",
    "#Make this a default flag input\n",
    "    \n",
    "#  Define thermal diffusivity b\n",
    "b = a\n",
    "\n",
    "#  Define other physical parameters\n",
    "H = 1.     # Layer depth\n",
    "g = 1.     # gravity\n",
    "beta = 1.  # df/dy\n",
    "\n",
    "#  Domain size and number of mesh points\n",
    "lx = 20. # periodic domain width -lx/2 < x < lx/2\n",
    "ly = 20. # Rigid walls at +/- ly/2\n",
    "nx = 128. # Number of gridpoints in x\n",
    "ny = 120. # Number of y gridpoints in -ly/2 <= y < ly/2\n",
    "\n",
    "#  Parameters defining plot window in x,y and stride (in gridpoints) for\n",
    "#  velocity vector plotting\n",
    "xmin = -lx/2.\n",
    "xmax = lx/2.\n",
    "ymin = -3.5\n",
    "ymax = 3.5\n",
    "stride = 4.\n",
    "\n",
    "#%----------End of user-defined parameters--------- "
   ]
  },
  {
   "cell_type": "code",
   "execution_count": 18,
   "metadata": {},
   "outputs": [
    {
     "name": "stdout",
     "output_type": "stream",
     "text": [
      "1.5707963267948966\n",
      "1.5707963267948966\n",
      "1.5707963267948966\n",
      "1.5707963267948966\n",
      "1.5707963267948966\n",
      "1.5707963267948966\n",
      "1.5707963267948966\n",
      "1.5707963267948966\n",
      "1.5707963267948966\n",
      "1.5707963267948966\n",
      "1.5707963267948966\n",
      "1.5707963267948966\n",
      "1.5707963267948966\n",
      "1.5707963267948966\n",
      "1.5707963267948966\n",
      "1.5707963267948966\n",
      "1.5707963267948966\n",
      "1.5707963267948966\n",
      "1.5707963267948966\n",
      "1.5707963267948966\n",
      "1.5707963267948966\n",
      "1.5707963267948966\n",
      "1.5707963267948966\n",
      "1.5707963267948966\n",
      "1.5707963267948966\n",
      "1.5707963267948966\n",
      "1.5707963267948966\n",
      "1.5707963267948966\n",
      "1.5707963267948966\n",
      "1.5707963267948966\n",
      "1.5707963267948966\n",
      "1.5707963267948966\n",
      "1.5707963267948966\n",
      "1.5707963267948966\n",
      "1.5707963267948966\n",
      "1.5707963267948966\n",
      "1.5707963267948966\n",
      "1.5707963267948966\n",
      "1.5707963267948966\n",
      "1.5707963267948966\n",
      "1.5707963267948966\n",
      "1.5707963267948966\n",
      "1.5707963267948966\n",
      "1.5707963267948966\n",
      "1.5707963267948966\n",
      "1.5707963267948966\n",
      "1.5707963267948966\n",
      "1.5707963267948966\n",
      "1.5707963267948966\n",
      "1.5707963267948966\n",
      "1.5707963267948966\n",
      "1.5707963267948966\n",
      "-1.4726215563702154\n",
      "-1.3499030933393643\n",
      "-1.227184630308513\n",
      "-1.1044661672776617\n",
      "-0.9817477042468103\n",
      "-0.859029241215959\n",
      "-0.7363107781851077\n",
      "-0.6135923151542565\n",
      "-0.4908738521234052\n",
      "-0.36815538909255385\n",
      "-0.2454369260617026\n",
      "-0.1227184630308513\n",
      "0.0\n",
      "0.1227184630308513\n",
      "0.2454369260617026\n",
      "0.36815538909255385\n",
      "0.4908738521234052\n",
      "0.6135923151542565\n",
      "0.7363107781851077\n",
      "0.859029241215959\n",
      "0.9817477042468103\n",
      "1.1044661672776617\n",
      "1.227184630308513\n",
      "1.3499030933393643\n",
      "1.4726215563702154\n",
      "1.5707963267948966\n",
      "1.5707963267948966\n",
      "1.5707963267948966\n",
      "1.5707963267948966\n",
      "1.5707963267948966\n",
      "1.5707963267948966\n",
      "1.5707963267948966\n",
      "1.5707963267948966\n",
      "1.5707963267948966\n",
      "1.5707963267948966\n",
      "1.5707963267948966\n",
      "1.5707963267948966\n",
      "1.5707963267948966\n",
      "1.5707963267948966\n",
      "1.5707963267948966\n",
      "1.5707963267948966\n",
      "1.5707963267948966\n",
      "1.5707963267948966\n",
      "1.5707963267948966\n",
      "1.5707963267948966\n",
      "1.5707963267948966\n",
      "1.5707963267948966\n",
      "1.5707963267948966\n",
      "1.5707963267948966\n",
      "1.5707963267948966\n",
      "1.5707963267948966\n",
      "1.5707963267948966\n",
      "1.5707963267948966\n",
      "1.5707963267948966\n",
      "1.5707963267948966\n",
      "1.5707963267948966\n",
      "1.5707963267948966\n",
      "1.5707963267948966\n",
      "1.5707963267948966\n",
      "1.5707963267948966\n",
      "1.5707963267948966\n",
      "1.5707963267948966\n",
      "1.5707963267948966\n",
      "1.5707963267948966\n",
      "1.5707963267948966\n",
      "1.5707963267948966\n",
      "1.5707963267948966\n",
      "1.5707963267948966\n",
      "1.5707963267948966\n"
     ]
    }
   ],
   "source": [
    "#Some preliminary calculations\n",
    "\n",
    "#Define the grid\n",
    "dx = lx/nx\n",
    "x = -lx/2.+dx*np.arange(nx)\n",
    "dy = ly/ny\n",
    "y = -ly/2.+dy*np.arange(ny+1)\n",
    "X,Y=np.meshgrid(x,y)\n",
    "\n",
    "#Shallow water phase speed\n",
    "c = np.sqrt(g*H)\n",
    "\n",
    "#Define mass source M(x,y)\n",
    "sx = 2. #Mass source half-width in x\n",
    "sy = 1. #Mass source half-width in y\n",
    "x0 = 0  #Central x of mass source\n",
    "y0 = 0  #Central y of mass source\n",
    "\n",
    "kh = np.pi/(2.*sx)\n",
    "phase = kh*(X-x0)\n",
    "phase[X-x0>sx] = np.pi/2.\n",
    "phase[X-x0<-sx] = np.pi/2.\n",
    "#for i in range(len(phase)): #To test index assignment worked\n",
    "#    print(phase[0,i])\n"
   ]
  },
  {
   "cell_type": "code",
   "execution_count": 6,
   "metadata": {},
   "outputs": [
    {
     "data": {
      "text/plain": [
       "array([[-10.     ,  -9.84375,  -9.6875 , ...,   9.53125,   9.6875 ,\n",
       "          9.84375],\n",
       "       [-10.     ,  -9.84375,  -9.6875 , ...,   9.53125,   9.6875 ,\n",
       "          9.84375],\n",
       "       [-10.     ,  -9.84375,  -9.6875 , ...,   9.53125,   9.6875 ,\n",
       "          9.84375],\n",
       "       ...,\n",
       "       [-10.     ,  -9.84375,  -9.6875 , ...,   9.53125,   9.6875 ,\n",
       "          9.84375],\n",
       "       [-10.     ,  -9.84375,  -9.6875 , ...,   9.53125,   9.6875 ,\n",
       "          9.84375],\n",
       "       [-10.     ,  -9.84375,  -9.6875 , ...,   9.53125,   9.6875 ,\n",
       "          9.84375]])"
      ]
     },
     "execution_count": 6,
     "metadata": {},
     "output_type": "execute_result"
    }
   ],
   "source": [
    "X"
   ]
  },
  {
   "cell_type": "code",
   "execution_count": 7,
   "metadata": {},
   "outputs": [
    {
     "data": {
      "text/plain": [
       "array([[-10.        , -10.        , -10.        , ..., -10.        ,\n",
       "        -10.        , -10.        ],\n",
       "       [ -9.83333333,  -9.83333333,  -9.83333333, ...,  -9.83333333,\n",
       "         -9.83333333,  -9.83333333],\n",
       "       [ -9.66666667,  -9.66666667,  -9.66666667, ...,  -9.66666667,\n",
       "         -9.66666667,  -9.66666667],\n",
       "       ...,\n",
       "       [  9.66666667,   9.66666667,   9.66666667, ...,   9.66666667,\n",
       "          9.66666667,   9.66666667],\n",
       "       [  9.83333333,   9.83333333,   9.83333333, ...,   9.83333333,\n",
       "          9.83333333,   9.83333333],\n",
       "       [ 10.        ,  10.        ,  10.        , ...,  10.        ,\n",
       "         10.        ,  10.        ]])"
      ]
     },
     "execution_count": 7,
     "metadata": {},
     "output_type": "execute_result"
    }
   ],
   "source": [
    "Y"
   ]
  },
  {
   "cell_type": "code",
   "execution_count": 10,
   "metadata": {},
   "outputs": [
    {
     "data": {
      "text/plain": [
       "60"
      ]
     },
     "execution_count": 10,
     "metadata": {},
     "output_type": "execute_result"
    }
   ],
   "source": [
    "a = 5\n",
    "A = 55 \n",
    "a + A"
   ]
  },
  {
   "cell_type": "code",
   "execution_count": null,
   "metadata": {},
   "outputs": [],
   "source": []
  }
 ],
 "metadata": {
  "kernelspec": {
   "display_name": "Python 3",
   "language": "python",
   "name": "python3"
  },
  "language_info": {
   "codemirror_mode": {
    "name": "ipython",
    "version": 3
   },
   "file_extension": ".py",
   "mimetype": "text/x-python",
   "name": "python",
   "nbconvert_exporter": "python",
   "pygments_lexer": "ipython3",
   "version": "3.6.6"
  }
 },
 "nbformat": 4,
 "nbformat_minor": 2
}
