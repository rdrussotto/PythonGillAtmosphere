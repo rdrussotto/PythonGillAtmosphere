{
 "cells": [
  {
   "cell_type": "code",
   "execution_count": null,
   "metadata": {},
   "outputs": [],
   "source": [
    "#Scratch work for the conversion of the Bretherton & Sobel Gill model from Matlab to Python\n",
    "#(transfer to separate script/module once I know it's working)\n",
    "\n",
    "#Model from paper by Bretherton & Sobel, JAS, 2001."
   ]
  },
  {
   "cell_type": "code",
   "execution_count": null,
   "metadata": {},
   "outputs": [],
   "source": [
    "#Plots don't look right. Why? \"fftshift\" differences between Python and Matlab?\n",
    "#Or did I do the sparse matrices wrong?\n",
    "#I think I have no choice but to print test output from both the Matlab and the Python versions."
   ]
  },
  {
   "cell_type": "code",
   "execution_count": 1,
   "metadata": {},
   "outputs": [],
   "source": [
    "#Necessary imports\n",
    "import numpy as np\n",
    "import matplotlib.pyplot as plt\n",
    "from scipy.sparse import spdiags"
   ]
  },
  {
   "cell_type": "raw",
   "metadata": {},
   "source": [
    "Matlab comments at beginning of file:\n",
    "% Script to solve Gill problem, exact, in WTG limit, and no-dissipation \n",
    "% comparison, for a specified zonally compensated mass source.  We use an FFT \n",
    "% with periodic BC in x and finite differencing with BC v = 0 at N, S walls.\n",
    "% The main control parameters are:\n",
    "%   nodiss (switch for nondim Rayleigh friction- 0: a= 0.15; 1: a = 0.0001)\n",
    "%   zonalcomp (switch to turn on zonal compensation of mass source)\n",
    "% Other control parameters controlling domain shape, etc. are near top of \n",
    "% script. \n",
    "% If nodiss = 0, three two-panel figures are plotted:\n",
    "%  figure(1)  Gill solution div and vort/u/v (b = a, b = Newtonian cooling)\n",
    "%   ...and if zonalcomp = 1...\n",
    "%  figure(2)  WTG solution div and vort/u/v (b = 0), zonally-compensated.\n",
    "%  figure(3)  Gill and WTG geopotls.\n",
    "% If nodiss = 1, one two-panel figure is plotted:\n",
    "%  figure(1)  a = b = 0 vort/u/v and phi.\n",
    "%\n",
    "% This script is used to generate the following figures in the WTG_gill paper:\n",
    "% Setting nodiss, zonalcomp, y0 = 0 (original Gill model):\n",
    "%  figure(1)  gill-nocomp-uv.eps  \n",
    "% Setting nodiss = 0, zonalcomp = 1, y0 = 0 (zonally compensated Gill model):\n",
    "%  figure(1)  gill-uv.eps\n",
    "%  figure(2)  WTG-uv.eps\n",
    "%  figure(3)  comp-phi.eps\n",
    "% We also get rms relative error stats uerr, verr, phierr, zetaerr, etc.\n",
    "% Setting nodiss = 1, zonalcomp = 1, y0 = 0 (no dissipation):\n",
    "%  figure(1)  nodiss.eps"
   ]
  },
  {
   "cell_type": "code",
   "execution_count": 2,
   "metadata": {},
   "outputs": [],
   "source": [
    "#\"User-Defined Parameters\": make these inputs to a function\n",
    "\n",
    "zonalcomp = 0 #No zonal compensation of heating (Original Gill problem)\n",
    "#  zonalcomp = 1; # Gill problem with zonally compensated heating\n",
    "nodiss = 0 # Thermal diffusivity = Rayleigh damping (Original Gill problem)\n",
    "#  nodiss = 1; # Inviscid, no thermal diffusion\n",
    "\n",
    "\n",
    "#  Set Rayleigh friction (nondimensionalized in units of sqrt(beta*c))\n",
    "if(nodiss):\n",
    "    a = 0.0001  # a = 0 would produce divide by zero.\n",
    "else:\n",
    "    a = 0.15\n",
    "#Make this a default flag input\n",
    "    \n",
    "#  Define thermal diffusivity b\n",
    "b = a\n",
    "\n",
    "#  Define other physical parameters\n",
    "H = 1.     # Layer depth\n",
    "g = 1.     # gravity\n",
    "beta = 1.  # df/dy\n",
    "\n",
    "#  Domain size and number of mesh points\n",
    "lx = 20. # periodic domain width -lx/2 < x < lx/2\n",
    "ly = 20. # Rigid walls at +/- ly/2\n",
    "nx = 128 # Number of gridpoints in x\n",
    "ny = 120 # Number of y gridpoints in -ly/2 <= y < ly/2\n",
    "\n",
    "#  Parameters defining plot window in x,y and stride (in gridpoints) for\n",
    "#  velocity vector plotting\n",
    "xmin = -lx/2.\n",
    "xmax = lx/2.\n",
    "ymin = -3.5\n",
    "ymax = 3.5\n",
    "stride=4\n",
    "#%----------End of user-defined parameters--------- "
   ]
  },
  {
   "cell_type": "code",
   "execution_count": 3,
   "metadata": {},
   "outputs": [],
   "source": [
    "#Some preliminary calculations\n",
    "\n",
    "#Define the grid\n",
    "dx = lx/nx\n",
    "x = -lx/2.+dx*np.arange(nx)\n",
    "dy = ly/ny\n",
    "y = -ly/2.+dy*np.arange(ny+1)\n",
    "X,Y=np.meshgrid(x,y)\n",
    "\n",
    "#Shallow water phase speed\n",
    "c = np.sqrt(g*H)\n",
    "\n",
    "#Define mass source M(x,y), derivatives and Fourier transforms\n",
    "sx = 2. #Mass source half-width in x\n",
    "sy = 1. #Mass source half-width in y\n",
    "x0 = 0  #Central x of mass source\n",
    "y0 = 0  #Central y of mass source\n",
    "\n",
    "kh = np.pi/(2.*sx)\n",
    "phase = kh*(X-x0)\n",
    "phase[X-x0>sx] = np.pi/2.\n",
    "phase[X-x0<-sx] = np.pi/2.\n",
    "#for i in range(len(phase)): #To test index assignment worked\n",
    "#    print(phase[0,i])\n",
    "F = np.cos(phase)\n",
    "M = F*np.exp(-(Y-y0)*(Y-y0)/(2*sy*sy))\n",
    "#print(M)\n",
    "#print(np.shape(M))\n",
    "#print(ny)\n",
    "M[0,:] = 0\n",
    "M[ny,:] = 0\n",
    "if zonalcomp == 1: #Replace with boolean True? This should evaluate that way anyway\n",
    "    M = M - (np.mean(np.transpose(M)))*np.ones([1,nx])\n",
    "dMdy = -(Y-y0)*M/(sy*sy)\n",
    "d2Mdy2 = ((Y-y0)*(Y-y0)/(sy*sy)-1)*M/(sy*sy)\n",
    "Mhat = np.transpose(np.fft.fft(np.transpose(M)))\n",
    "dMdyhat = np.transpose(np.fft.fft(np.transpose(dMdy)))\n",
    "#Which axis is FFT being done on? This is a 2D matrix...\n",
    "#Matlab does FFTs of each column. \n",
    "#Numpy uses the last axis, which amounts to the same thing for 2D matrix.\n",
    "\n",
    "#Define wavenumber matrix\n",
    "#kx = (2*np.pi/lx)*np.concatenate([np.arange(nx/2), np.arange(-nx/2,0)])\n",
    "kx = (2*np.pi/lx)*np.append(np.arange(nx/2), np.arange(-nx/2,0))\n",
    "KX = np.ones([ny+1,1])*kx"
   ]
  },
  {
   "cell_type": "code",
   "execution_count": 4,
   "metadata": {},
   "outputs": [
    {
     "name": "stderr",
     "output_type": "stream",
     "text": [
      "/home/russotto/miniconda3/envs/pangeo/lib/python3.6/site-packages/ipykernel_launcher.py:31: ComplexWarning: Casting complex values to real discards the imaginary part\n"
     ]
    }
   ],
   "source": [
    "#%-------------------Gill computations-----------------------------------------\n",
    "#This is line 108... another day of work maybe?\n",
    "\n",
    "#Define v source term Sv = (a*d/dy - beta*y*d/dx)M/H\n",
    "Svhat = (a*dMdyhat - beta*1j*KX*Y*Mhat)/H #1j is complex number i\n",
    "\n",
    "# %\n",
    "# %  Solve (-b(a^2 + beta^2y^2)/c^2 + a*del^2 + beta*d/dx)v = Sv, or\n",
    "# %\n",
    "# %  a*d2vhat/dy2 + (-b(a^2 + beta^2y^2)/c^2 -a*k^2 + i*k*beta)vhat = Svhat\n",
    "# %\n",
    "# %  where Sv = (a*d/dy - beta*y*d/dx)M/H is the same source term\n",
    "# %  as in WTG (but this time we don't remove wavenumber zero).\n",
    "\n",
    "# %  This is done as a loop over wavenumbers, using only the interior \n",
    "# %  y-gridpoints 2:ny (since v = 0 at the boundaries)\n",
    "\n",
    "vhat = np.zeros([ny+1,nx])\n",
    "d1 = a/(dy*dy)\n",
    "for i in np.arange(nx):\n",
    "    k = kx[i]\n",
    "    d0 = -2*d1 - a*k*k + 1j*k*beta\n",
    "    #e = np.ones([ny-1,1]) #Don't in Python want this to be column vector--leave 1D for element multiplication\n",
    "    e = np.ones(ny-1)\n",
    "    diags = np.stack((d1*e, d0*e-b*(a*a+np.power(beta*y[1:ny],2))/(c*c), d1*e))\n",
    "    #print(diags) #Confirms diagonals stored row-wise, as required by scipy spdiags\n",
    "    Av = spdiags(diags, [-1, 0, 1], ny-1, ny-1)\n",
    "    #print(Av.todense())\n",
    "    r = Svhat[1:ny,i]\n",
    "    #vhat[1:ny,i] = Av\\r #huh? Backslash operator--matrix left division\n",
    "    vhat[1:ny,i] = np.linalg.solve(Av.todense(),r) #This is the equivalent in Python. It can't handle sparse matrices without converting to dense.\n",
    "v = np.real(np.transpose(np.fft.ifft(np.transpose(vhat))))\n",
    "#print(np.shape(v))    #121, 128\n",
    "\n",
    "#Could fft be being done on wrong dimension? That would cause errors...\n",
    "\n",
    "\n",
    "# %  Calculate phi from\n",
    "# %\n",
    "# %     (b/c^2)phi + du/dx = M/H - dv/dy \n",
    "# %  and\n",
    "# %     a*u = -dphi/dx + beta*y*v\n",
    "# %  Eliminating u between these equations,\n",
    "# %     (a*b/c^2 - d2/dx2)phi = aM/H - a dv/dy - beta*y*dv/dx\n",
    "# %  whose FFT in x diagnoses phi\n",
    "\n",
    "dvdyhat = np.zeros([ny+1, nx])\n",
    "dvdyhat[1:ny,:] = (vhat[2:ny+1,:]-vhat[0:ny-1,:])/(2*dy)\n",
    "dvdyhat[0,:] = (vhat[1,:] - vhat[0,:])/dy\n",
    "dvdyhat[ny,:] = (vhat[ny,:]-vhat[ny-1,:])/dy\n",
    "phihat = (a*Mhat/H-a*dvdyhat-1j*beta*Y*KX*vhat)/(a*b/(c*c)+KX*KX)\n",
    "phi = np.real(np.transpose(np.fft.ifft(np.transpose(phihat))))\n",
    "\n",
    "D = M/H - b*phi/(c*c)\n",
    "\n",
    "\n",
    "# %  Calculate vorticity zeta from divergence and v:\n",
    "# %\n",
    "# %    a*zeta + beta*(y*D + v) = 0\n",
    "\n",
    "zeta = (beta/a)*(-Y*D - v)\n",
    " \n",
    "    \n",
    "#%  u calculated using div eqn: du/dx + dv/dy = M/H-b*phi/(c^2)\n",
    "\n",
    "dvdy = np.zeros([ny+1,nx])\n",
    "dvdy[1:ny,:] = (v[2:ny+1,:] - v[0:ny-1,:])/(2*dy)\n",
    "\n",
    "uhat = Mhat/H - b*phihat/(c*c)-np.transpose(np.fft.fft(np.transpose(dvdy)))\n",
    "#%   uhat=(Mhat/H-(fft(dvdy.')).');\n",
    "\n",
    "uhat[:,1:nx] = uhat[:,1:nx]/(1j*KX[:,1:nx])\n",
    "\n",
    "\n",
    "# %  The k=0 components are indeterminate; for these go to zonally\n",
    "# %  averaged vorticity equation dudyhat(:,1) = -zetahat(:,1), with BC that\n",
    "# %  the meridional average of uhat(:,1) should equal zero. \n",
    "zetahat = np.transpose(np.fft.fft(np.transpose(zeta)))\n",
    "dudyhath = -0.5*(zetahat[0:ny,0] + zetahat[1:(ny+1),0])\n",
    "uhat[:,0] = np.append(0, dy*np.cumsum(dudyhath))\n",
    "uhatmean = np.mean(np.append(uhat[1:ny,0], 0.5*(uhat[0,0])+uhat[ny,0]))\n",
    "uhat[:,0] = uhat[:,0] - uhatmean\n",
    "\n",
    "ucompare = np.real(np.transpose(np.fft.ifft(np.transpose(uhat))))\n",
    "\n",
    "\n",
    "#%  u calculated using x momentum eqn: -beta.y.v=-d(phi)/dx-a.u \n",
    "dphidx=np.zeros((ny+1,nx))\n",
    "\n",
    "dphidx[:,1:nx-1] = (phi[:, 2:nx] - phi[:,0:nx-2])/(2.*dx)\n",
    "dphidx[:,0] = (phi[:,1]-phi[:,nx-1])/(2.*dx)\n",
    "dphidx[:,nx-1] = (phi[:,0] - phi[:,nx-2])/(2.*dx)\n",
    "u = (-1.*beta*Y*v+dphidx)/(-1.*a)\n",
    "\n",
    "#This is the end of the general computation section--rest is plotting.\n",
    "#On 10-15-18 at 3:30 PM: runs up to this point"
   ]
  },
  {
   "cell_type": "code",
   "execution_count": 5,
   "metadata": {},
   "outputs": [],
   "source": [
    "\n",
    "#####   PLOTS   #####\n"
   ]
  },
  {
   "cell_type": "code",
   "execution_count": 6,
   "metadata": {},
   "outputs": [
    {
     "name": "stdout",
     "output_type": "stream",
     "text": [
      "128\n",
      "120\n",
      "4\n"
     ]
    },
    {
     "name": "stderr",
     "output_type": "stream",
     "text": [
      "/home/russotto/miniconda3/envs/pangeo/lib/python3.6/site-packages/matplotlib/contour.py:1173: UserWarning: No contour levels were found within the data range.\n",
      "  warnings.warn(\"No contour levels were found\"\n"
     ]
    },
    {
     "data": {
      "text/plain": [
       "<matplotlib.quiver.Quiver at 0x7fc18034b4e0>"
      ]
     },
     "execution_count": 6,
     "metadata": {},
     "output_type": "execute_result"
    },
    {
     "data": {
      "image/png": "[encoded data removed]",
      "text/plain": [
       "<Figure size 432x288 with 2 Axes>"
      ]
     },
     "metadata": {},
     "output_type": "display_data"
    }
   ],
   "source": [
    "#  if (~nodiss)\n",
    "\n",
    "# %    figure(1): Plot Gill div and vel/vort\n",
    "# %    If mass source is compensated (zonalcomp = 1), plot 2 additional figs:\n",
    "# %     figure(2): WTG div and vel/vort\n",
    "# %     figure(3): Gill phi and WTG phi\n",
    "# %    If mass source is compensated and off-equatorial, plot\n",
    "# %     figure(1): Gill vel/vort and WTG vel/vort\n",
    "\n",
    "#How to deal with these figure options? Probably best to have one function that does the calculations, and a wrapper that does the plots.\n",
    "#Can write one wrapper that does what Chris's code does, and others for my own purposes.\n",
    "\n",
    "#%-------Gill plots--------\n",
    "plt.figure(1)\n",
    "plt.subplot(2,1,1)\n",
    "\n",
    "#%    Plot Gill divergence\n",
    "#3 sets of contours of different styles\n",
    "cint = np.array([-0.9, -0.7, -0.5, -0.3, -0.1])\n",
    "plt.contour(x,y,D, levels=cint, colors='k', linestyles = 'solid')\n",
    "cint = np.array([-0.06, -0.02])\n",
    "plt.contour(x,y,D, levels=cint, colors='k', linestyles = 'dashed')\n",
    "cint = np.array([0.02, 0.06, 0.1])\n",
    "plt.contour(x,y,D, levels=cint, colors='k', linestyles = 'dashdot')\n",
    "plt.axis([xmin, xmax, ymin, ymax])\n",
    "#plt.xlabel('x/R$_{eq}$')\n",
    "plt.ylabel('y/R$_{eq}$')\n",
    "plt.text(0.75*xmax + 0.25*xmin, 0.85*ymax + 0.15*ymin, \n",
    "         'a = b = '+str(a)+ 'c/R$_{eq}$')\n",
    "plt.title('Gill convergence')\n",
    "\n",
    "\n",
    "#OK, something clearly went wrong... this doesn't look like the Matlab version.\n",
    "\n",
    "#%    Plot Gill velocity vectors and vorticity\n",
    "\n",
    "plt.subplot(2,1,2)\n",
    "\n",
    "#%    czetamax = max(max(zeta))\n",
    "czetamax = 3 #fixed contours\n",
    "cpos = np.array([0.1, 0.3, 0.5, 0.7, 0.9, 1.1, 1.3, 1.5, 1.7, 1.9])*czetamax\n",
    "plt.contour(x,y,zeta, levels=cpos, colors='k', linestyles='solid')\n",
    "plt.contour(x,y,zeta, levels=np.flip(-1*cpos), colors='k', linestyles='dashed') #NumPy requires contours in increasing order\n",
    "plt.axis([xmin, xmax, ymin, ymax])\n",
    "plt.xlabel('x/R$_{eq}$')\n",
    "plt.ylabel('y/R$_{eq}$')\n",
    "plt.text(0.75*xmax + 0.25*xmin, 0.85*ymax + 0.15*ymin, \n",
    "         'a = b = '+str(a)+ 'c/R$_{eq}$')\n",
    "plt.title('Gill Velocity and Vorticity')\n",
    " \n",
    "#%    Plot velocity vectors\n",
    "print(nx)\n",
    "print(ny)\n",
    "print(stride)\n",
    "plt.quiver(x[0:nx:stride], y[0:ny:stride], u[0:ny:stride,0:nx:stride], v[0:ny:stride,0:nx:stride])\n",
    "\n",
    "#Something wrong with this one too. Seems antisymmetric about the equator, not how it was supposed to be... and quivers suggest x velocity way too big"
   ]
  },
  {
   "cell_type": "code",
   "execution_count": null,
   "metadata": {},
   "outputs": [],
   "source": []
  },
  {
   "cell_type": "code",
   "execution_count": null,
   "metadata": {},
   "outputs": [],
   "source": [
    "#spdiags test\n",
    "testdiag = np.arange(10)+1\n",
    "testdiags = np.tile(testdiag, [5,1])\n",
    "print(testdiags)\n",
    "sparsem = spdiags(testdiags, [-2,-1,0,1,2], 10,10)\n",
    "print(sparsem)\n",
    "print(sparsem.todense())\n",
    "#Appears that, as in Matlab, diagonals on the lower left start at first index,\n",
    "#while diagonals on the upper right end at the last index."
   ]
  },
  {
   "cell_type": "code",
   "execution_count": 8,
   "metadata": {},
   "outputs": [],
   "source": [
    "aaaa = np.arange(10)"
   ]
  },
  {
   "cell_type": "code",
   "execution_count": 9,
   "metadata": {},
   "outputs": [
    {
     "data": {
      "text/plain": [
       "array([0, 1, 2, 3])"
      ]
     },
     "execution_count": 9,
     "metadata": {},
     "output_type": "execute_result"
    }
   ],
   "source": [
    "aaaa[0:5-1]"
   ]
  },
  {
   "cell_type": "code",
   "execution_count": 10,
   "metadata": {},
   "outputs": [
    {
     "data": {
      "text/plain": [
       "array([0, 1, 2, 3])"
      ]
     },
     "execution_count": 10,
     "metadata": {},
     "output_type": "execute_result"
    }
   ],
   "source": [
    "aaaa[0:(5-1)]"
   ]
  },
  {
   "cell_type": "code",
   "execution_count": null,
   "metadata": {},
   "outputs": [],
   "source": []
  }
 ],
 "metadata": {
  "kernelspec": {
   "display_name": "Python 3",
   "language": "python",
   "name": "python3"
  },
  "language_info": {
   "codemirror_mode": {
    "name": "ipython",
    "version": 3
   },
   "file_extension": ".py",
   "mimetype": "text/x-python",
   "name": "python",
   "nbconvert_exporter": "python",
   "pygments_lexer": "ipython3",
   "version": "3.6.6"
  }
 },
 "nbformat": 4,
 "nbformat_minor": 2
}
